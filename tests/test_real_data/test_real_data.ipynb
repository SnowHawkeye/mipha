{
 "cells": [
  {
   "metadata": {},
   "cell_type": "markdown",
   "source": [
    "## MIPHA test on a real use case\n",
    "\n",
    "The purpose of this notebook is to test the MIPHA framework with a real use case. A proper \"example\" package will be provided in a future version, once the framework has stabilized.\n",
    "\n",
    "The data used in this example has been extracted from the [MIMIC-IV database](https://physionet.org/content/mimiciv/2.2/). The code used to extract the data will also be added to the example package."
   ],
   "id": "1174009381b944d2"
  },
  {
   "metadata": {
    "ExecuteTime": {
     "end_time": "2024-07-24T10:17:27.892460Z",
     "start_time": "2024-07-24T10:17:27.879700Z"
    }
   },
   "cell_type": "code",
   "source": [
    "import sys\n",
    "from importlib import reload\n",
    "\n",
    "import pandas as pd \n",
    "\n",
    "import tests.test_real_data.real_data_manager as data\n",
    "import tests.test_real_data.simple_implementation as impl # necessary for pickle to work, cannot use from ... import *\n",
    "from src.mipha.framework import MiphaPredictor"
   ],
   "id": "bdd4520d42498b6b",
   "outputs": [],
   "execution_count": 2
  },
  {
   "metadata": {
    "ExecuteTime": {
     "end_time": "2024-07-24T10:17:28.504627Z",
     "start_time": "2024-07-24T10:17:28.471348Z"
    }
   },
   "cell_type": "code",
   "source": [
    "reload(sys.modules['src.mipha.framework'])\n",
    "reload(sys.modules['tests.test_real_data.simple_implementation'])\n",
    "reload(sys.modules['tests.test_real_data.real_data_manager'])"
   ],
   "id": "b98e1ba5261a9ee2",
   "outputs": [
    {
     "data": {
      "text/plain": [
       "<module 'tests.test_real_data.real_data_manager' from 'C:\\\\Biologie_PhD\\\\mipha\\\\tests\\\\test_real_data\\\\real_data_manager.py'>"
      ]
     },
     "execution_count": 3,
     "metadata": {},
     "output_type": "execute_result"
    }
   ],
   "execution_count": 3
  },
  {
   "metadata": {},
   "cell_type": "markdown",
   "source": [
    "### Framework implementation\n",
    "\n",
    "We test a simple implementation of the framework applied to the prediction of stage 5 CKD (using a year of history for a prediction up to 15 months in advance).\n",
    "The data sources used in this example are:\n",
    "- The evolution of creatinine over time.\n",
    "- The age and gender of the patient.\n",
    "\n",
    "The framework is implemented as such:\n",
    "- Feature extraction for the first data source is performed using the `tsfel` package.\n",
    "- Aggregation is a simple concatenation of the extracted features.\n",
    "- The machine learning model is a simple CNN."
   ],
   "id": "abc2786182f8857b"
  },
  {
   "metadata": {
    "jupyter": {
     "is_executing": true
    },
    "ExecuteTime": {
     "start_time": "2024-07-24T10:17:33.699811Z"
    }
   },
   "cell_type": "code",
   "source": "data_sources_train, labels_train, data_sources_test, labels_test = data.load_stage_5_ckd(random_state=25)",
   "id": "b78e7a1ca4996308",
   "outputs": [],
   "execution_count": null
  },
  {
   "metadata": {},
   "cell_type": "code",
   "source": [
    "mipha = MiphaPredictor(\n",
    "    feature_extractors=[\n",
    "        impl.BiologyFeatureExtractor(component_name=\"BiologyFeatureExtractor\", managed_data_types=[\"Creatinine\"]),\n",
    "        impl.DemographicsFeatureExtractor(component_name=\"BiologyFeatureExtractor\",\n",
    "                                          managed_data_types=[\"Demographics\"]),\n",
    "    ],\n",
    "    aggregator=impl.SimpleAggregator(),\n",
    "    model=impl.SimpleCnnModel(rows=1, columns=142, output_dim=1, n_filters=3),\n",
    "    # input dimensions are picked for the aggregator, output is binary\n",
    "    evaluator=impl.SimpleEvaluator(),\n",
    ")"
   ],
   "id": "ab3edd7c6b2461dc",
   "outputs": [],
   "execution_count": null
  },
  {
   "metadata": {},
   "cell_type": "code",
   "source": "mipha.fit(data_sources_train, labels_train, epochs=3)",
   "id": "b350b8df47eb685a",
   "outputs": [],
   "execution_count": null
  },
  {
   "metadata": {},
   "cell_type": "code",
   "source": "mipha.evaluate(data_sources=data_sources_test, test_labels=pd.DataFrame(labels_test), threshold=0.5)",
   "id": "32dce9ee17ae30cd",
   "outputs": [],
   "execution_count": null
  },
  {
   "metadata": {},
   "cell_type": "code",
   "source": [
    "from datetime import datetime\n",
    "\n",
    "now = datetime.now()\n",
    "formatted_time = now.strftime(\"%Y-%m-%d_%H-%M-%S\")\n",
    "file_path = f\"out/mipha_real_data_{formatted_time}\"\n",
    "mipha.save(file_path)"
   ],
   "id": "5bdcdb29eb2821a3",
   "outputs": [],
   "execution_count": null
  },
  {
   "metadata": {},
   "cell_type": "code",
   "source": [
    "# Reusing a feature extraction\n",
    "\n",
    "# data.save_pickle(mipha.last_computed_features, \"out/mipha_computed_features.pkl\")\n",
    "\n",
    "mipha_loaded = mipha.load(\"out/mipha_real_data.zip\")\n",
    "precomputed_features = data.load_pickle(\"out/mipha_computed_features.pkl\")"
   ],
   "id": "79c5b3ef97654b76",
   "outputs": [],
   "execution_count": null
  },
  {
   "metadata": {},
   "cell_type": "code",
   "source": "mipha.evaluate(data_sources_test, labels_test, precomputed_features=precomputed_features)",
   "id": "42b7b8a8812b9817",
   "outputs": [],
   "execution_count": null
  },
  {
   "metadata": {},
   "cell_type": "code",
   "source": "",
   "id": "ef655114cf987c9b",
   "outputs": [],
   "execution_count": null
  }
 ],
 "metadata": {
  "kernelspec": {
   "display_name": "Python 3",
   "language": "python",
   "name": "python3"
  },
  "language_info": {
   "codemirror_mode": {
    "name": "ipython",
    "version": 2
   },
   "file_extension": ".py",
   "mimetype": "text/x-python",
   "name": "python",
   "nbconvert_exporter": "python",
   "pygments_lexer": "ipython2",
   "version": "2.7.6"
  }
 },
 "nbformat": 4,
 "nbformat_minor": 5
}
