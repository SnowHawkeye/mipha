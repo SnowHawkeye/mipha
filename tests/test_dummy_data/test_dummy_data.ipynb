{
 "cells": [
  {
   "metadata": {},
   "cell_type": "markdown",
   "source": [
    "## MIPHA test on dummy data\n",
    "\n",
    "The purpose of this notebook is to test functions of the MIPHA framework on dummy data with placeholder implementations. This will allow for faster, targeted testing."
   ],
   "id": "1174009381b944d2"
  },
  {
   "metadata": {},
   "cell_type": "code",
   "source": [
    "import sys\n",
    "from importlib import reload\n",
    "\n",
    "import tests.test_dummy_data.dummy_data_manager as data\n",
    "import tests.test_dummy_data.dummy_implementation as impl  # necessary for pickle to work, cannot use from ... import *\n",
    "from mipha.framework import MiphaPredictor"
   ],
   "id": "bdd4520d42498b6b",
   "outputs": [],
   "execution_count": null
  },
  {
   "metadata": {},
   "cell_type": "code",
   "source": [
    "reload(sys.modules['src.mipha.framework'])\n",
    "reload(sys.modules['tests.test_dummy_data.dummy_data_manager'])\n",
    "reload(sys.modules['tests.test_dummy_data.dummy_implementation'])"
   ],
   "id": "b98e1ba5261a9ee2",
   "outputs": [],
   "execution_count": null
  },
  {
   "metadata": {},
   "cell_type": "markdown",
   "source": [
    "### Framework implementation\n",
    "\n"
   ],
   "id": "abc2786182f8857b"
  },
  {
   "metadata": {},
   "cell_type": "code",
   "source": [
    "x_train, y_train, x_test, y_test = data.load_dummy_data(\n",
    "    len_x_train=10,\n",
    "    len_y_train=10,\n",
    "    len_x_test=5,\n",
    "    len_y_test=5,\n",
    "    num_data_sources=3\n",
    ")"
   ],
   "id": "12399f7832967419",
   "outputs": [],
   "execution_count": null
  },
  {
   "metadata": {},
   "cell_type": "code",
   "source": [
    "feature_extractor_1 = impl.DummyFeatureExtractor(\"FE1\")\n",
    "feature_extractor_2 = impl.DummyFeatureExtractor(\"FE2\")\n",
    "feature_extractor_3 = impl.DummyFeatureExtractor(\"FE3\")\n",
    "\n",
    "aggregator = impl.DummyAggregator()\n",
    "model = impl.DummyMachineLearningModel()\n",
    "evaluator = impl.DummyEvaluator()"
   ],
   "id": "a976d12be97bd752",
   "outputs": [],
   "execution_count": null
  },
  {
   "metadata": {},
   "cell_type": "code",
   "source": [
    "mipha = MiphaPredictor(\n",
    "    feature_extractors=[feature_extractor_1, feature_extractor_2, feature_extractor_3],\n",
    "    aggregator=aggregator,\n",
    "    model=model,\n",
    "    evaluator=evaluator,\n",
    ")"
   ],
   "id": "ab3edd7c6b2461dc",
   "outputs": [],
   "execution_count": null
  },
  {
   "metadata": {},
   "cell_type": "code",
   "source": "mipha.fit(data_sources=x_train, train_labels=y_train)",
   "id": "374499e8e29d22cf",
   "outputs": [],
   "execution_count": null
  },
  {
   "metadata": {},
   "cell_type": "code",
   "source": [
    "archive_path = \"out/test.zip\"\n",
    "mipha.save(archive_path)"
   ],
   "id": "20ae883613b78134",
   "outputs": [],
   "execution_count": null
  },
  {
   "metadata": {},
   "cell_type": "code",
   "source": "mipha_loaded = impl.MiphaPredictor.load(archive_path)",
   "id": "f91040367a91f299",
   "outputs": [],
   "execution_count": null
  },
  {
   "metadata": {},
   "cell_type": "code",
   "outputs": [],
   "execution_count": null,
   "source": "",
   "id": "d8a663ba2e7a120"
  }
 ],
 "metadata": {
  "kernelspec": {
   "display_name": "Python 3",
   "language": "python",
   "name": "python3"
  },
  "language_info": {
   "codemirror_mode": {
    "name": "ipython",
    "version": 2
   },
   "file_extension": ".py",
   "mimetype": "text/x-python",
   "name": "python",
   "nbconvert_exporter": "python",
   "pygments_lexer": "ipython2",
   "version": "2.7.6"
  }
 },
 "nbformat": 4,
 "nbformat_minor": 5
}
