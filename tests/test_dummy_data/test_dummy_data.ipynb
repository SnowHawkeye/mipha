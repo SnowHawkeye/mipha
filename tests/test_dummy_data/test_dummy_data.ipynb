{
 "cells": [
  {
   "metadata": {},
   "cell_type": "markdown",
   "source": [
    "## MIPHA test on dummy data\n",
    "\n",
    "The purpose of this notebook is to test functions of the MIPHA framework on dummy data with placeholder implementations. This will allow for faster, targeted testing."
   ],
   "id": "1174009381b944d2"
  },
  {
   "metadata": {},
   "cell_type": "code",
   "source": [
    "import sys\n",
    "from importlib import reload\n",
    "\n",
    "import tests.test_dummy_data.dummy_data_manager as data\n",
    "import tests.test_dummy_data.dummy_implementation as impl  # necessary for pickle to work, cannot use from ... import *\n",
    "from src.mipha.framework import MiphaPredictor, DataSource"
   ],
   "id": "bdd4520d42498b6b",
   "outputs": [],
   "execution_count": null
  },
  {
   "metadata": {},
   "cell_type": "code",
   "source": [
    "reload(sys.modules['src.mipha.framework'])\n",
    "reload(sys.modules['tests.test_dummy_data.dummy_data_manager'])\n",
    "reload(sys.modules['tests.test_dummy_data.dummy_implementation'])"
   ],
   "id": "b98e1ba5261a9ee2",
   "outputs": [],
   "execution_count": null
  },
  {
   "metadata": {},
   "cell_type": "markdown",
   "source": [
    "### Framework implementation\n",
    "\n"
   ],
   "id": "abc2786182f8857b"
  },
  {
   "metadata": {},
   "cell_type": "code",
   "source": [
    "x_train, y_train, x_test, y_test = data.load_dummy_data(\n",
    "    len_x_train=10,\n",
    "    len_y_train=10,\n",
    "    len_x_test=5,\n",
    "    len_y_test=5,\n",
    "    num_data_sources=3\n",
    ")"
   ],
   "id": "12399f7832967419",
   "outputs": [],
   "execution_count": null
  },
  {
   "metadata": {},
   "cell_type": "code",
   "source": [
    "feature_extractor_1 = impl.DummyFeatureExtractor(component_name=\"FE1\", managed_data_types=[\"TypeA\", \"TypeB\"])\n",
    "feature_extractor_2 = impl.DummyFeatureExtractor(component_name=\"FE2\", managed_data_types=[\"TypeA\"])\n",
    "feature_extractor_3 = impl.DummyFeatureExtractor(component_name=\"FE3\", managed_data_types=[\"TypeB\"])\n",
    "\n",
    "aggregator = impl.DummyAggregator()\n",
    "model = impl.DummyMachineLearningModel()\n",
    "evaluator = impl.DummyEvaluator()"
   ],
   "id": "a976d12be97bd752",
   "outputs": [],
   "execution_count": null
  },
  {
   "metadata": {},
   "cell_type": "code",
   "source": [
    "mipha = MiphaPredictor(\n",
    "    feature_extractors=[feature_extractor_1, feature_extractor_2, feature_extractor_3],\n",
    "    aggregator=aggregator,\n",
    "    model=model,\n",
    "    evaluator=evaluator,\n",
    ")"
   ],
   "id": "ab3edd7c6b2461dc",
   "outputs": [],
   "execution_count": null
  },
  {
   "metadata": {},
   "cell_type": "code",
   "source": [
    "print(\"fit\")\n",
    "\n",
    "dummy_data_source_1 = DataSource(\n",
    "    data_type=\"TypeA\",\n",
    "    data=x_train[0],\n",
    "    name=\"dummy_data_source_1\",\n",
    ")\n",
    "\n",
    "dummy_data_source_2 = DataSource(\n",
    "    data_type=\"TypeB\",\n",
    "    data=x_train[1],\n",
    "    name=\"dummy_data_source_2\",\n",
    ")\n",
    "\n",
    "dummy_data_source_3 = DataSource(\n",
    "    data_type=\"TypeA\",\n",
    "    data=x_train[2],\n",
    "    name=\"dummy_data_source_3\",\n",
    ")\n",
    "\n",
    "data_sources = [dummy_data_source_1, dummy_data_source_2, dummy_data_source_3]\n",
    "\n",
    "mipha.fit(\n",
    "    data_sources=data_sources,\n",
    "    train_labels=y_train\n",
    ")\n",
    "\n",
    "print(\"predict\")\n",
    "mipha.predict(\n",
    "    data_sources=data_sources,\n",
    "    train_labels=y_train\n",
    ")\n",
    "\n",
    "print(\"evaluate\")\n",
    "mipha.evaluate(\n",
    "    data_sources=data_sources,\n",
    "    train_labels=y_train,\n",
    "    test_labels=y_test,\n",
    ")"
   ],
   "id": "374499e8e29d22cf",
   "outputs": [],
   "execution_count": null
  },
  {
   "metadata": {},
   "cell_type": "code",
   "source": [
    "# Saving and loading the model\n",
    "archive_path = \"out/test.zip\"\n",
    "mipha.save(archive_path)\n",
    "mipha_loaded = MiphaPredictor.load(archive_path)"
   ],
   "id": "20ae883613b78134",
   "outputs": [],
   "execution_count": null
  },
  {
   "metadata": {},
   "cell_type": "code",
   "source": [
    "# Fitting with precomputed features\n",
    "mipha.fit(data_sources=data_sources, train_labels=y_train, precomputed_features=mipha.last_computed_features)"
   ],
   "id": "c01b8d1c836de36a",
   "outputs": [],
   "execution_count": null
  },
  {
   "metadata": {},
   "cell_type": "code",
   "source": "",
   "id": "72e5e3c69a0c6539",
   "outputs": [],
   "execution_count": null
  }
 ],
 "metadata": {
  "kernelspec": {
   "display_name": "Python 3",
   "language": "python",
   "name": "python3"
  },
  "language_info": {
   "codemirror_mode": {
    "name": "ipython",
    "version": 2
   },
   "file_extension": ".py",
   "mimetype": "text/x-python",
   "name": "python",
   "nbconvert_exporter": "python",
   "pygments_lexer": "ipython2",
   "version": "2.7.6"
  }
 },
 "nbformat": 4,
 "nbformat_minor": 5
}
